{
 "cells": [
  {
   "cell_type": "code",
   "execution_count": 5,
   "id": "1b36b7bb-2e2f-4919-96e5-bea4cb8f197f",
   "metadata": {},
   "outputs": [
    {
     "name": "stdout",
     "output_type": "stream",
     "text": [
      "Mechanics of Materials Quiz:\n",
      "Q1. Average normal stress: 63.66 MPa\n",
      "\n",
      "\n",
      "Q2. Applied stress: 100.00 MPa\n",
      "    Strain: 0.0005\n",
      "\n",
      "\n",
      "Q3. Principal stresses: 85.00 MPa and -45.00 MPa\n",
      "    Maximum shear stress: 65.00 MPa\n"
     ]
    }
   ],
   "source": [
    "from math import pi\n",
    "import matplotlib.pyplot as plt\n",
    "import numpy as np\n",
    "\n",
    "# Import all the functions and Material class from your module\n",
    "from Mechanics_of_Materials_Functions import (\n",
    "    axial_stress, axial_strain, torsional_shear_stress, polar_moment_of_inertia, \n",
    "    bending_stress, moment_of_inertia_rectangle, beam_deflection_point_load, \n",
    "    shear_stress, stress_transformation_2D, strain_energy, combined_stress, \n",
    "    critical_load, youngs_modulus, Material, materials\n",
    ")\n",
    "import math\n",
    "\n",
    "# Constants for consistency\n",
    "PI = math.pi\n",
    "\n",
    "# Quiz Questions\n",
    "\n",
    "def question_1():\n",
    "    diameter = 10e-3  # m\n",
    "    force = 5000  # N\n",
    "    area = PI * (diameter / 2)**2\n",
    "    stress = axial_stress(force, area)\n",
    "    print(f\"Q1. Average normal stress: {stress / 1e6:.2f} MPa\")\n",
    "\n",
    "def question_2():\n",
    "    diameter = 2e-3  # m\n",
    "    length = 2  # m\n",
    "    delta_length = 1e-3  # m\n",
    "    modulus = 200e9  # Pa\n",
    "    area = PI * (diameter / 2)**2\n",
    "    strain = axial_strain(delta_length, length)\n",
    "    stress = modulus * strain\n",
    "    print(f\"Q2. Applied stress: {stress / 1e6:.2f} MPa\")\n",
    "    print(f\"    Strain: {strain:.4f}\")\n",
    "\n",
    "def question_3():\n",
    "    sigma_x = 80e6  # Pa\n",
    "    sigma_y = -40e6  # Pa\n",
    "    tau_xy = 25e6  # Pa\n",
    "    \n",
    "    # Principal stresses\n",
    "    sigma_avg = (sigma_x + sigma_y) / 2\n",
    "    R = math.sqrt(((sigma_x - sigma_y) / 2)**2 + tau_xy**2)\n",
    "    sigma_1 = sigma_avg + R\n",
    "    sigma_2 = sigma_avg - R\n",
    "    \n",
    "    # Maximum shear stress\n",
    "    tau_max = R\n",
    "    \n",
    "    print(f\"Q3. Principal stresses: {sigma_1 / 1e6:.2f} MPa and {sigma_2 / 1e6:.2f} MPa\")\n",
    "    print(f\"    Maximum shear stress: {tau_max / 1e6:.2f} MPa\")\n",
    "\n",
    "# Main execution\n",
    "if __name__ == \"__main__\":\n",
    "    print(\"Mechanics of Materials Quiz:\")\n",
    "    question_1()\n",
    "    print(\"\\n\")\n",
    "    question_2()\n",
    "    print(\"\\n\")\n",
    "    question_3()"
   ]
  }
 ],
 "metadata": {
  "kernelspec": {
   "display_name": "Python 3 (ipykernel)",
   "language": "python",
   "name": "python3"
  },
  "language_info": {
   "codemirror_mode": {
    "name": "ipython",
    "version": 3
   },
   "file_extension": ".py",
   "mimetype": "text/x-python",
   "name": "python",
   "nbconvert_exporter": "python",
   "pygments_lexer": "ipython3",
   "version": "3.11.9"
  }
 },
 "nbformat": 4,
 "nbformat_minor": 5
}
