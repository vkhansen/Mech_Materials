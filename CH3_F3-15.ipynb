{
 "cells": [
  {
   "cell_type": "code",
   "execution_count": 2,
   "id": "f9baea8a-a9c8-450f-88fa-b5c675ae5e76",
   "metadata": {},
   "outputs": [
    {
     "name": "stdout",
     "output_type": "stream",
     "text": [
      "Axial Strain: 0.003333333333333333\n",
      "Axial Stress: 905414787.3672265 Pa\n",
      "Young's Modulus: 271624436210.16797 Pa\n",
      "Poisson's Ratio: -0.687549354156988\n",
      "Shear Modulus: 434667746448.89557 Pa\n"
     ]
    }
   ],
   "source": [
    "\n",
    "from math import pi\n",
    "import matplotlib.pyplot as plt\n",
    "import numpy as np\n",
    "\n",
    "# Import all the functions and Material class from your module\n",
    "from Mechanics_of_Materials_Functions import (\n",
    "    axial_stress, axial_strain, torsional_shear_stress, polar_moment_of_inertia, \n",
    "    bending_stress, moment_of_inertia_rectangle, beam_deflection_point_load, \n",
    "    shear_stress, stress_transformation_2D, strain_energy, combined_stress, \n",
    "    critical_load, youngs_modulus, Material, materials\n",
    ")\n",
    "\n",
    "\n",
    "\n",
    "# Problem parameters\n",
    "force = 40e3  # N (40 kN)\n",
    "delta_length = 3e-3  # m (3 mm)\n",
    "original_length = 900e-3  # m (900 mm)\n",
    "outer_diameter = 12.5e-3  # m (12.5 mm)\n",
    "inner_diameter = 10e-3  # m (10 mm)\n",
    "delta_circumference = 0.09e-3  # m (0.09 mm)\n",
    "\n",
    "# Step 1: Calculate axial strain\n",
    "axial_strain_value = axial_strain(delta_length, original_length)\n",
    "\n",
    "# Step 2: Calculate axial stress\n",
    "# First, calculate the cross-sectional area\n",
    "cross_sectional_area = pi * ((outer_diameter / 2)**2 - (inner_diameter / 2)**2)\n",
    "axial_stress_value = axial_stress(force, cross_sectional_area)\n",
    "\n",
    "# Step 3: Calculate modulus of elasticity (Young's modulus)\n",
    "youngs_modulus_value = youngs_modulus(axial_stress_value, axial_strain_value)\n",
    "\n",
    "# Step 4: Calculate Poisson's ratio\n",
    "# Change in circumference divided by original circumference gives us the lateral strain\n",
    "original_circumference = pi * outer_diameter\n",
    "lateral_strain = delta_circumference / original_circumference\n",
    "poissons_ratio_value = -lateral_strain / axial_strain_value  # Poisson's ratio is negative of lateral strain divided by axial strain\n",
    "\n",
    "# Step 5: Calculate shear modulus\n",
    "# Shear modulus G can be estimated from E and Poisson's ratio with G = E / (2 * (1 + ν))\n",
    "shear_modulus_value = youngs_modulus_value / (2 * (1 + poissons_ratio_value))\n",
    "\n",
    "# Output results\n",
    "print(f\"Axial Strain: {axial_strain_value}\")\n",
    "print(f\"Axial Stress: {axial_stress_value} Pa\")\n",
    "print(f\"Young's Modulus: {youngs_modulus_value} Pa\")\n",
    "print(f\"Poisson's Ratio: {poissons_ratio_value}\")\n",
    "print(f\"Shear Modulus: {shear_modulus_value} Pa\")\n",
    "\n"
   ]
  },
  {
   "cell_type": "code",
   "execution_count": null,
   "id": "bd6ab3ee-21c6-4b46-8830-118952249434",
   "metadata": {},
   "outputs": [],
   "source": []
  }
 ],
 "metadata": {
  "kernelspec": {
   "display_name": "Python 3 (ipykernel)",
   "language": "python",
   "name": "python3"
  },
  "language_info": {
   "codemirror_mode": {
    "name": "ipython",
    "version": 3
   },
   "file_extension": ".py",
   "mimetype": "text/x-python",
   "name": "python",
   "nbconvert_exporter": "python",
   "pygments_lexer": "ipython3",
   "version": "3.11.9"
  }
 },
 "nbformat": 4,
 "nbformat_minor": 5
}
