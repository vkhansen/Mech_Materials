{
 "cells": [
  {
   "cell_type": "code",
   "execution_count": 1,
   "id": "f9baea8a-a9c8-450f-88fa-b5c675ae5e76",
   "metadata": {},
   "outputs": [
    {
     "name": "stdout",
     "output_type": "stream",
     "text": [
      "Axial Stress: 5.66e+07 Pa\n",
      "Axial Strain: 8.08e-04\n",
      "Change in Diameter: -0.000004 m\n",
      "Change in Diameter in mm: -0.004244 mm\n",
      "Modulus of Rigidity (Shear Modulus): 2.59e+10 Pa\n"
     ]
    }
   ],
   "source": [
    "\n",
    "from math import pi\n",
    "import matplotlib.pyplot as plt\n",
    "import numpy as np\n",
    "\n",
    "# Import all the functions and Material class from your module\n",
    "from Mechanics_of_Materials_Functions import (\n",
    "    axial_stress, axial_strain, torsional_shear_stress, polar_moment_of_inertia, \n",
    "    bending_stress, moment_of_inertia_rectangle, beam_deflection_point_load, \n",
    "    shear_stress, stress_transformation_2D, strain_energy, combined_stress, \n",
    "    critical_load, youngs_modulus, Material, materials\n",
    ")\n",
    "\n",
    "\n",
    "\n",
    "# Given parameters for the rod problem\n",
    "length = 0.1  # meters (converted from 100 mm)\n",
    "diameter = 0.015  # meters (converted from 15 mm)\n",
    "force = 10000  # Newtons (converted from 10 kN)\n",
    "E = 70e9  # Pa (converted from 70 GPa)\n",
    "nu = 0.35  # Poisson's ratio\n",
    "\n",
    "# Calculate the cross-sectional area\n",
    "area = pi * (diameter / 2)**2\n",
    "\n",
    "# Calculate axial stress\n",
    "axial_stress_value = axial_stress(force, area)\n",
    "\n",
    "# Calculate axial strain\n",
    "axial_strain_value = axial_stress_value / E  # Using Hooke's Law directly since stress = E * strain\n",
    "\n",
    "# Calculate change in diameter using lateral strain\n",
    "lateral_strain = -nu * axial_strain_value\n",
    "change_in_diameter = lateral_strain * diameter\n",
    "\n",
    "# Calculate Modulus of Rigidity (Shear Modulus)\n",
    "G = E / (2 * (1 + nu))  # Shear modulus calculation\n",
    "\n",
    "# Output results\n",
    "print(f\"Axial Stress: {axial_stress_value:.2e} Pa\")\n",
    "print(f\"Axial Strain: {axial_strain_value:.2e}\")\n",
    "print(f\"Change in Diameter: {change_in_diameter:.6f} m\")\n",
    "print(f\"Change in Diameter in mm: {change_in_diameter * 1000:.6f} mm\")\n",
    "print(f\"Modulus of Rigidity (Shear Modulus): {G:.2e} Pa\")"
   ]
  },
  {
   "cell_type": "code",
   "execution_count": null,
   "id": "bd6ab3ee-21c6-4b46-8830-118952249434",
   "metadata": {},
   "outputs": [],
   "source": []
  }
 ],
 "metadata": {
  "kernelspec": {
   "display_name": "Python 3 (ipykernel)",
   "language": "python",
   "name": "python3"
  },
  "language_info": {
   "codemirror_mode": {
    "name": "ipython",
    "version": 3
   },
   "file_extension": ".py",
   "mimetype": "text/x-python",
   "name": "python",
   "nbconvert_exporter": "python",
   "pygments_lexer": "ipython3",
   "version": "3.11.9"
  }
 },
 "nbformat": 4,
 "nbformat_minor": 5
}
