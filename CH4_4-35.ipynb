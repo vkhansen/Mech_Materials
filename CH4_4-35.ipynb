{
 "cells": [
  {
   "cell_type": "code",
   "execution_count": 4,
   "id": "f9baea8a-a9c8-450f-88fa-b5c675ae5e76",
   "metadata": {},
   "outputs": [
    {
     "name": "stdout",
     "output_type": "stream",
     "text": [
      "The maximum load P the column can support is 7096.43 N\n"
     ]
    }
   ],
   "source": [
    "from math import pi\n",
    "import matplotlib.pyplot as plt\n",
    "import numpy as np\n",
    "\n",
    "# Import all the functions and Material class from your module\n",
    "from Mechanics_of_Materials_Functions import (\n",
    "    axial_stress, axial_strain, torsional_shear_stress, polar_moment_of_inertia, \n",
    "    bending_stress, moment_of_inertia_rectangle, beam_deflection_point_load, \n",
    "    shear_stress, stress_transformation_2D, strain_energy, combined_stress, \n",
    "    critical_load, youngs_modulus, Material, materials\n",
    ")\n",
    "\n",
    "import math\n",
    "\n",
    "# Constants for consistency\n",
    "PI = math.pi\n",
    "\n",
    "# Define constants\n",
    "LENGTH_FT = 10  # Length of the column in feet\n",
    "LENGTH_M = LENGTH_FT * 0.3048  # Convert feet to meters\n",
    "DIAMETER_IN = 9 / 12  # Diameter in inches\n",
    "DIAMETER_M = DIAMETER_IN * 0.0254  # Convert inches to meters\n",
    "\n",
    "# Material properties\n",
    "CONCRETE_ALLOWABLE_STRESS = 2.5 * 1000 * 6894.76  # Convert ksi to Pa\n",
    "STEEL_ALLOWABLE_STRESS = 24 * 1000 * 6894.76  # Convert ksi to Pa\n",
    "\n",
    "# Cross-sectional properties\n",
    "AREA_CONCRETE = pi * (DIAMETER_M / 2)**2  # Area of concrete cross-section in m^2\n",
    "AREA_STEEL = 4 * pi * (3/12 * 0.0254 / 2)**2  # Area of 4 steel rods in m^2, 3/12 inch diameter rods\n",
    "\n",
    "# Calculate polar moment of inertia for the steel rods (assuming they are circular)\n",
    "POLAR_MOMENT_STEEL = 4 * polar_moment_of_inertia(3/12 * 0.0254)\n",
    "\n",
    "# Calculate combined cross-sectional area\n",
    "TOTAL_AREA = AREA_CONCRETE + AREA_STEEL\n",
    "\n",
    "# Calculate maximum load P\n",
    "# Since we're dealing with axial load, we use axial_stress function to find the maximum P\n",
    "# We need to ensure that the stress in both concrete and steel does not exceed their allowable limits\n",
    "\n",
    "# Corrected force calculation\n",
    "def max_load_concrete():\n",
    "    return CONCRETE_ALLOWABLE_STRESS * TOTAL_AREA  # Corrected force calculation\n",
    "\n",
    "def max_load_steel():\n",
    "    return STEEL_ALLOWABLE_STRESS * TOTAL_AREA  # Corrected force calculation\n",
    "\n",
    "# The limiting factor will be the material with the lower allowable stress\n",
    "max_load = min(max_load_concrete(), max_load_steel())\n",
    "\n",
    "print(f\"The maximum load P the column can support is {max_load:.2f} N\")\n"
   ]
  },
  {
   "cell_type": "code",
   "execution_count": null,
   "id": "bd6ab3ee-21c6-4b46-8830-118952249434",
   "metadata": {},
   "outputs": [],
   "source": []
  }
 ],
 "metadata": {
  "kernelspec": {
   "display_name": "Python 3 (ipykernel)",
   "language": "python",
   "name": "python3"
  },
  "language_info": {
   "codemirror_mode": {
    "name": "ipython",
    "version": 3
   },
   "file_extension": ".py",
   "mimetype": "text/x-python",
   "name": "python",
   "nbconvert_exporter": "python",
   "pygments_lexer": "ipython3",
   "version": "3.11.9"
  }
 },
 "nbformat": 4,
 "nbformat_minor": 5
}
