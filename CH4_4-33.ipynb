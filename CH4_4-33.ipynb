{
 "cells": [
  {
   "cell_type": "code",
   "execution_count": 3,
   "id": "f9baea8a-a9c8-450f-88fa-b5c675ae5e76",
   "metadata": {},
   "outputs": [
    {
     "name": "stdout",
     "output_type": "stream",
     "text": [
      "The required diameter for each steel rod is approximately 0.0345 meters or 34.55 mm.\n"
     ]
    }
   ],
   "source": [
    "\n",
    "from math import pi\n",
    "import matplotlib.pyplot as plt\n",
    "import numpy as np\n",
    "\n",
    "# Import all the functions and Material class from your module\n",
    "from Mechanics_of_Materials_Functions import (\n",
    "    axial_stress, axial_strain, torsional_shear_stress, polar_moment_of_inertia, \n",
    "    bending_stress, moment_of_inertia_rectangle, beam_deflection_point_load, \n",
    "    shear_stress, stress_transformation_2D, strain_energy, combined_stress, \n",
    "    critical_load, youngs_modulus, Material, materials\n",
    ")\n",
    "\n",
    "# Import necessary libraries\n",
    "import math\n",
    "\n",
    "# Constants for consistency\n",
    "PI = math.pi\n",
    "\n",
    "# Given values\n",
    "total_force = 800e3  # 800 kN converted to N\n",
    "column_height = 0.3  # 300 mm converted to m\n",
    "column_width = 0.3   # 300 mm converted to m\n",
    "E_steel = 200e9      # Young's modulus for steel in Pa\n",
    "E_concrete = 25e9    # Young's modulus for concrete in Pa\n",
    "\n",
    "# Load distribution\n",
    "load_steel = total_force * 0.25  # 1/4 of the load by steel\n",
    "load_concrete = total_force * 0.75  # 3/4 of the load by concrete\n",
    "\n",
    "# Cross-sectional area of concrete\n",
    "A_concrete = column_height * column_width\n",
    "\n",
    "# We need to find the diameter of the steel rods. Let's solve for one rod first, assuming symmetry.\n",
    "# Since we are looking for the diameter that allows the steel to carry 1/4 of the load, we'll start with one rod.\n",
    "\n",
    "\n",
    "# Function to find the area needed for steel\n",
    "def find_steel_area(force, modulus, strain):\n",
    "    return force / (modulus * strain)\n",
    "\n",
    "# We need to find the strain in the steel which should be equal to the strain in the concrete due to compatibility\n",
    "# Let's assume the strain in the concrete due to the concrete load is what we need to match with steel.\n",
    "\n",
    "# Strain in concrete due to its load\n",
    "strain_concrete = axial_stress(load_concrete, A_concrete) / E_concrete\n",
    "\n",
    "# Now, we find the area of steel needed to match this strain\n",
    "A_steel_required = find_steel_area(load_steel, E_steel, strain_concrete)\n",
    "\n",
    "# Since we have four rods, we divide this area by 4\n",
    "A_steel_per_rod = A_steel_required / 4\n",
    "\n",
    "# Diameter of each rod\n",
    "diameter_steel = 2 * math.sqrt(A_steel_per_rod / PI)\n",
    "\n",
    "print(f\"The required diameter for each steel rod is approximately {diameter_steel:.4f} meters or {diameter_steel * 1000:.2f} mm.\")"
   ]
  },
  {
   "cell_type": "code",
   "execution_count": null,
   "id": "bd6ab3ee-21c6-4b46-8830-118952249434",
   "metadata": {},
   "outputs": [],
   "source": []
  }
 ],
 "metadata": {
  "kernelspec": {
   "display_name": "Python 3 (ipykernel)",
   "language": "python",
   "name": "python3"
  },
  "language_info": {
   "codemirror_mode": {
    "name": "ipython",
    "version": 3
   },
   "file_extension": ".py",
   "mimetype": "text/x-python",
   "name": "python",
   "nbconvert_exporter": "python",
   "pygments_lexer": "ipython3",
   "version": "3.11.9"
  }
 },
 "nbformat": 4,
 "nbformat_minor": 5
}
