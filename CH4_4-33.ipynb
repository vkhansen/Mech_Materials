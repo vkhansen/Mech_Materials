{
 "cells": [
  {
   "cell_type": "code",
   "execution_count": 6,
   "id": "f9baea8a-a9c8-450f-88fa-b5c675ae5e76",
   "metadata": {},
   "outputs": [
    {
     "name": "stdout",
     "output_type": "stream",
     "text": [
      "The average normal stress in the steel is 67906109.05 Pa\n",
      "The average normal stress in the concrete is 20787584.40 Pa\n"
     ]
    }
   ],
   "source": [
    "\n",
    "from math import pi\n",
    "import matplotlib.pyplot as plt\n",
    "import numpy as np\n",
    "\n",
    "# Import all the functions and Material class from your module\n",
    "from Mechanics_of_Materials_Functions import (\n",
    "    axial_stress, axial_strain, torsional_shear_stress, polar_moment_of_inertia, \n",
    "    bending_stress, moment_of_inertia_rectangle, beam_deflection_point_load, \n",
    "    shear_stress, stress_transformation_2D, strain_energy, combined_stress, \n",
    "    critical_load, youngs_modulus, Material, materials\n",
    ")\n",
    "\n",
    "from math import pi\n",
    "\n",
    "# Constants and given values\n",
    "force = 80e3  # 80 kN in N\n",
    "outer_diameter = 80e-3  # 80 mm in m\n",
    "inner_diameter = 70e-3  # 70 mm in m\n",
    "length = 500e-3  # 500 mm in m\n",
    "E_steel = 200e9  # 200 GPa in Pa\n",
    "E_concrete = 24e9  # 24 GPa in Pa\n",
    "\n",
    "# Calculate cross-sectional areas\n",
    "area_steel = pi * (outer_diameter**2 - inner_diameter**2) / 4\n",
    "area_concrete = pi * (inner_diameter**2) / 4\n",
    "\n",
    "# Calculate the stress in steel and concrete using the axial_stress function\n",
    "stress_steel = axial_stress(force, area_steel)\n",
    "stress_concrete = axial_stress(force, area_concrete)\n",
    "\n",
    "# Output the results\n",
    "print(f\"The average normal stress in the steel is {stress_steel:.2f} Pa\")\n",
    "print(f\"The average normal stress in the concrete is {stress_concrete:.2f} Pa\")"
   ]
  },
  {
   "cell_type": "code",
   "execution_count": null,
   "id": "bd6ab3ee-21c6-4b46-8830-118952249434",
   "metadata": {},
   "outputs": [],
   "source": []
  }
 ],
 "metadata": {
  "kernelspec": {
   "display_name": "Python 3 (ipykernel)",
   "language": "python",
   "name": "python3"
  },
  "language_info": {
   "codemirror_mode": {
    "name": "ipython",
    "version": 3
   },
   "file_extension": ".py",
   "mimetype": "text/x-python",
   "name": "python",
   "nbconvert_exporter": "python",
   "pygments_lexer": "ipython3",
   "version": "3.11.9"
  }
 },
 "nbformat": 4,
 "nbformat_minor": 5
}
