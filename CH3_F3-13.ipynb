{
 "cells": [
  {
   "cell_type": "code",
   "execution_count": 5,
   "id": "f9baea8a-a9c8-450f-88fa-b5c675ae5e76",
   "metadata": {},
   "outputs": [
    {
     "name": "stdout",
     "output_type": "stream",
     "text": [
      "Modulus of Elasticity (E): 6.82e+10 Pa\n",
      "Poisson's Ratio (ν): -0.3493\n",
      "Modulus of Rigidity (G): 5.24e+10 Pa\n"
     ]
    }
   ],
   "source": [
    "\n",
    "from math import pi, cos, sin, radians\n",
    "import matplotlib.pyplot as plt\n",
    "import numpy as np\n",
    "\n",
    "# Import all the functions and Material class from your module\n",
    "from Mechanics_of_Materials_Functions import (\n",
    "    axial_stress, axial_strain, torsional_shear_stress, polar_moment_of_inertia, \n",
    "    bending_stress, moment_of_inertia_rectangle, beam_deflection_point_load, \n",
    "    shear_stress, stress_transformation_2D, strain_energy, combined_stress, \n",
    "    critical_load, youngs_modulus, Material, materials\n",
    ")\n"
   ]
  },
  {
   "cell_type": "code",
   "execution_count": null,
   "id": "bd6ab3ee-21c6-4b46-8830-118952249434",
   "metadata": {},
   "outputs": [],
   "source": []
  }
 ],
 "metadata": {
  "kernelspec": {
   "display_name": "Python 3 (ipykernel)",
   "language": "python",
   "name": "python3"
  },
  "language_info": {
   "codemirror_mode": {
    "name": "ipython",
    "version": 3
   },
   "file_extension": ".py",
   "mimetype": "text/x-python",
   "name": "python",
   "nbconvert_exporter": "python",
   "pygments_lexer": "ipython3",
   "version": "3.11.9"
  }
 },
 "nbformat": 4,
 "nbformat_minor": 5
}
