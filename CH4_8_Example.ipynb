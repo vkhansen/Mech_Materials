{
 "cells": [
  {
   "cell_type": "code",
   "execution_count": 1,
   "id": "f9baea8a-a9c8-450f-88fa-b5c675ae5e76",
   "metadata": {},
   "outputs": [
    {
     "name": "stdout",
     "output_type": "stream",
     "text": [
      "Problem 8-1: Required thickness = 18.75 mm\n"
     ]
    }
   ],
   "source": [
    "import numpy as np\n",
    "\n",
    "# Problem 8-1: Spherical tank thickness\n",
    "p_81 = 300e3  # Internal pressure in Pa (300 kPa)\n",
    "r_81 = 1.5    # Inner radius in meters\n",
    "sigma_max_81 = 12e6  # Maximum allowable stress in Pa (12 MPa)\n",
    "\n",
    "# Thickness calculation\n",
    "t_81 = (p_81 * r_81) / (2 * sigma_max_81)\n",
    "\n",
    "print(f\"Problem 8-1: Required thickness = {t_81 * 1000:.2f} mm\")"
   ]
  },
  {
   "cell_type": "code",
   "execution_count": 3,
   "id": "15275cab",
   "metadata": {},
   "outputs": [
    {
     "name": "stdout",
     "output_type": "stream",
     "text": [
      "Problem 8-2: Inner radius = 75.00 in\n",
      "Problem 8-2: Outer radius = 75.50 in\n"
     ]
    }
   ],
   "source": [
    "# Problem 8-2: Spherical tank outer radius\n",
    "p_82 = 200  # Internal pressure in psi\n",
    "t_82 = 0.5  # Thickness in inches\n",
    "sigma_max_82 = 15e3  # Maximum allowable stress in psi (15 ksi)\n",
    "\n",
    "# Inner radius calculation\n",
    "r_82 = (sigma_max_82 * 2 * t_82) / p_82\n",
    "\n",
    "# Outer radius\n",
    "r_outer_82 = r_82 + t_82\n",
    "\n",
    "print(f\"Problem 8-2: Inner radius = {r_82:.2f} in\")\n",
    "print(f\"Problem 8-2: Outer radius = {r_outer_82:.2f} in\")"
   ]
  },
  {
   "cell_type": "code",
   "execution_count": 4,
   "id": "a272fc76",
   "metadata": {},
   "outputs": [
    {
     "name": "stdout",
     "output_type": "stream",
     "text": [
      "Problem 8-3: Hoop stress = 1040.00 psi\n",
      "Problem 8-3: Longitudinal stress = 520.00 psi\n"
     ]
    }
   ],
   "source": [
    "# Problem 8-3: Thin-walled cylinder stresses\n",
    "p_83 = 65  # Internal pressure in psi\n",
    "d_83 = 8   # Inner diameter in inches\n",
    "r_83 = d_83 / 2  # Inner radius in inches\n",
    "t_83 = 0.25  # Wall thickness in inches\n",
    "\n",
    "# Hoop stress\n",
    "sigma_hoop = (p_83 * r_83) / t_83\n",
    "\n",
    "# Longitudinal stress\n",
    "sigma_long = (p_83 * r_83) / (2 * t_83)\n",
    "\n",
    "print(f\"Problem 8-3: Hoop stress = {sigma_hoop:.2f} psi\")\n",
    "print(f\"Problem 8-3: Longitudinal stress = {sigma_long:.2f} psi\")"
   ]
  },
  {
   "cell_type": "code",
   "execution_count": null,
   "id": "49c85c92-5d02-428c-acc2-42d6ba4ed491",
   "metadata": {},
   "outputs": [],
   "source": []
  }
 ],
 "metadata": {
  "kernelspec": {
   "display_name": "Python 3 (ipykernel)",
   "language": "python",
   "name": "python3"
  },
  "language_info": {
   "codemirror_mode": {
    "name": "ipython",
    "version": 3
   },
   "file_extension": ".py",
   "mimetype": "text/x-python",
   "name": "python",
   "nbconvert_exporter": "python",
   "pygments_lexer": "ipython3",
   "version": "3.11.9"
  }
 },
 "nbformat": 4,
 "nbformat_minor": 5
}
